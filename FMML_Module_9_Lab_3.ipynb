{
  "nbformat": 4,
  "nbformat_minor": 0,
  "metadata": {
    "colab": {
      "provenance": [],
      "include_colab_link": true
    },
    "kernelspec": {
      "name": "python3",
      "display_name": "Python 3"
    },
    "language_info": {
      "name": "python"
    }
  },
  "cells": [
    {
      "cell_type": "markdown",
      "metadata": {
        "id": "view-in-github",
        "colab_type": "text"
      },
      "source": [
        "<a href=\"https://colab.research.google.com/github/Shankar1920/FMML-22B21A4556/blob/main/FMML_Module_9_Lab_3.ipynb\" target=\"_parent\"><img src=\"https://colab.research.google.com/assets/colab-badge.svg\" alt=\"Open In Colab\"/></a>"
      ]
    },
    {
      "cell_type": "markdown",
      "source": [
        "# Module 9: Convolutional Neural Networks\n",
        "## **Lab 3**\n",
        "### Module coordinator: Kushagra Agarwal"
      ],
      "metadata": {
        "id": "kCpbL40ggQf1"
      }
    },
    {
      "cell_type": "markdown",
      "source": [
        "## 1. Understanding Convolutions"
      ],
      "metadata": {
        "id": "0hAW8ptqVeyP"
      }
    },
    {
      "cell_type": "markdown",
      "source": [
        "<img src=\"https://miro.medium.com/max/464/0*e-SMFTzO8r7skkpc\" width=650px/>"
      ],
      "metadata": {
        "id": "q6wfvhccKxWx"
      }
    },
    {
      "cell_type": "code",
      "execution_count": 1,
      "metadata": {
        "id": "yZD5S7IQgHbU"
      },
      "outputs": [],
      "source": [
        "import cv2\n",
        "import numpy as np\n",
        "import matplotlib.pyplot as plt"
      ]
    },
    {
      "cell_type": "code",
      "source": [
        "# Importing some pytorch packages\n",
        "import torch\n",
        "from torch.nn import Conv2d"
      ],
      "metadata": {
        "id": "BDE4WBHalreb"
      },
      "execution_count": 2,
      "outputs": []
    },
    {
      "cell_type": "markdown",
      "source": [
        "Central to CNNs, a convolution operation is a linear element-wise multiplication operation between a small filter/kernel and same-sized patch from the image. We move this filter over the image like a sliding window from top left to bottom right. For each point on the image, a value is calculated based on the filter using a convolution operation. These filters can do simplest task like checking if there is a vertical line in the image or complicated task like detecting a human eye in the image.\n",
        "\n",
        "Let's look at the convolution formula:\n",
        "\n",
        "Convolution between image\n",
        "$f(x, y)$ and kernel $k(x, y)$ is\n",
        "$$f(x,y) * k(x,y) = \\sum \\limits _{i=0} ^{W-1} \\sum \\limits _{j=0} ^{H-1} f(i, j) k(x − i, y − j)$$\n",
        "\n",
        "where $W$ and $H$ are the the width and height of the image.\n",
        "\n",
        "The code demonstrates the convolution operation of a 2D matrix (image) with various filters"
      ],
      "metadata": {
        "id": "hbpRXyTpVv7u"
      }
    },
    {
      "cell_type": "markdown",
      "source": [
        "<img src=\"https://www.researchgate.net/profile/Chaim-Baskin/publication/318849314/figure/fig1/AS:614287726870532@1523469015098/Image-convolution-with-an-input-image-of-size-7-7-and-a-filter-kernel-of-size-3-3.png\" alt=\"Convolution\" width=650px height=280px/>"
      ],
      "metadata": {
        "id": "amI6DTS0Ksvo"
      }
    },
    {
      "cell_type": "code",
      "source": [
        "# 2D 3x3 binary image with vertical edge\n",
        "image1 = np.array([[1,1,0], [1,1,0], [1,1,0]])\n",
        "\n",
        "# 2D 3x3 binary image with horizontal edge\n",
        "image2 = np.array([[0,0,0], [0,0,0], [1,1,1]])\n",
        "\n",
        "# On plotting the images\n",
        "plt.imshow(image1, cmap='gray', extent=[0, 3, 3, 0])\n",
        "plt.show()\n",
        "plt.imshow(image2, cmap='gray', extent=[0, 3, 3, 0])\n",
        "plt.show()"
      ],
      "metadata": {
        "colab": {
          "base_uri": "https://localhost:8080/",
          "height": 853
        },
        "id": "IalqupPPkDil",
        "outputId": "6a3e00d1-3241-484b-d4d8-6982ce088d9b"
      },
      "execution_count": 3,
      "outputs": [
        {
          "output_type": "display_data",
          "data": {
            "text/plain": [
              "<Figure size 640x480 with 1 Axes>"
            ],
            "image/png": "[encoded data removed]"
          },
          "metadata": {}
        },
        {
          "output_type": "display_data",
          "data": {
            "text/plain": [
              "<Figure size 640x480 with 1 Axes>"
            ],
            "image/png": "[encoded data removed]"
          },
          "metadata": {}
        }
      ]
    },
    {
      "cell_type": "code",
      "source": [
        "# Vertical Line filter\n",
        "filter = np.array([[1,0,-1],\n",
        "                   [1,0,-1],\n",
        "                   [1,0,-1]])\n",
        "\n",
        "# Applying filter to first image\n",
        "output = np.sum(np.multiply(image1, filter))\n",
        "print('Output from first image: ', output)\n",
        "\n",
        "# Applying filter to second image\n",
        "output = np.sum(np.multiply(image2, filter))\n",
        "print('Output from second image: ', output)"
      ],
      "metadata": {
        "colab": {
          "base_uri": "https://localhost:8080/"
        },
        "id": "g42INjCaketK",
        "outputId": "b19aebb0-0255-4103-d268-d601c512f9ff"
      },
      "execution_count": 4,
      "outputs": [
        {
          "output_type": "stream",
          "name": "stdout",
          "text": [
            "Output from first image:  3\n",
            "Output from second image:  0\n"
          ]
        }
      ]
    },
    {
      "cell_type": "code",
      "source": [
        "# Horizontal edge filter\n",
        "filter = np.array([[-1,-1,-1],\n",
        "                   [ 0, 0, 0],\n",
        "                   [ 1, 1, 1]])\n",
        "\n",
        "output = np.sum(np.multiply(image1, filter))\n",
        "print('Output from first image: ', output)\n",
        "\n",
        "output = np.sum(np.multiply(image2, filter))\n",
        "print('Output from second image: ', output)"
      ],
      "metadata": {
        "colab": {
          "base_uri": "https://localhost:8080/"
        },
        "id": "Tba3ySYUk2df",
        "outputId": "50ac9790-36bb-404f-d192-f005bd6815bd"
      },
      "execution_count": 5,
      "outputs": [
        {
          "output_type": "stream",
          "name": "stdout",
          "text": [
            "Output from first image:  0\n",
            "Output from second image:  3\n"
          ]
        }
      ]
    },
    {
      "cell_type": "markdown",
      "source": [
        "Non-zero output suggests that there is a vertical edge present in the first image and not present in the second image. Similarly, horizontal edge is detected in second."
      ],
      "metadata": {
        "id": "BmYcPhDgk_in"
      }
    },
    {
      "cell_type": "markdown",
      "source": [
        "Let's define a function to use convolution layer from Pytorch and use our own kernel to detect edges in image"
      ],
      "metadata": {
        "id": "UNdrDtAKqyj2"
      }
    },
    {
      "cell_type": "code",
      "source": [
        "def apply_conv(image, kernel, padding=0, stride=1):\n",
        "\n",
        "  #--------IMAGE PREPROCESSING-------\n",
        "  image = torch.from_numpy(image)\n",
        "  # Pytorch requires input to convolution in (N,C,H,W), where N = batch size and C=#channels in input\n",
        "  input = image.view((1,1,image.shape[0], image.shape[1]))\n",
        "\n",
        "  # --------------KERNEL-------------\n",
        "  kernel = torch.from_numpy(kernel.astype(np.float32))\n",
        "\n",
        "  # Pytorch requires kernel of shape (N,C,H,W), where N = batch size and C=#channels in input\n",
        "  kernel = kernel.view((1,1,kernel.shape[0], kernel.shape[1]))\n",
        "\n",
        "  # ---------CONVOLUTION LAYER from Pytorch--------\n",
        "  conv = Conv2d(in_channels=1, out_channels=1, kernel_size=kernel.shape, padding=padding, stride=stride)\n",
        "\n",
        "  # Set the kernel weights in the convolution layer\n",
        "  conv.weight = torch.nn.Parameter(kernel)\n",
        "\n",
        "  # ---------APPLY CONVOLUTION--------\n",
        "  output = conv(input.float())\n",
        "  output_img = output.data.numpy()  # Tensor to back in numpy\n",
        "  output_img = output_img.reshape((-1, output_img.shape[-1])) # Reshape to 2D image\n",
        "\n",
        "  return output_img"
      ],
      "metadata": {
        "id": "G5fRJziBk3YB"
      },
      "execution_count": 6,
      "outputs": []
    },
    {
      "cell_type": "code",
      "source": [],
      "metadata": {
        "id": "1HPV6fFZloyc"
      },
      "execution_count": 19,
      "outputs": []
    },
    {
      "cell_type": "code",
      "source": [
        "\n",
        "\n"
      ],
      "metadata": {
        "id": "xgwXwbUKnmEr"
      },
      "execution_count": 17,
      "outputs": []
    },
    {
      "cell_type": "markdown",
      "source": [
        "## Pooling Layers\n",
        "\n",
        "Pooling layers are used to reduce the dimensions of the feature maps. Thus, it reduces the number of parameters to learn and the amount of computation performed in the network. The pooling layer summarises the features present in a region of the feature map generated by a convolution layer.\n",
        "\n",
        "1) Max Pooling:\n",
        "\n",
        "<img src='https://media.geeksforgeeks.org/wp-content/uploads/20190721025744/Screenshot-2019-07-21-at-2.57.13-AM.png' height=150px/>\n",
        "\n",
        "2) Average Pooling:\n",
        "\n",
        "<img src='https://media.geeksforgeeks.org/wp-content/uploads/20190721030705/Screenshot-2019-07-21-at-3.05.56-AM.png' height=150px/>"
      ],
      "metadata": {
        "id": "FpA0yEk1BgRb"
      }
    },
    {
      "cell_type": "markdown",
      "source": [
        "## Softmax layer/activation\n",
        "Recall that logistic regression produces a decimal between 0 and 1.0. For example, a logistic regression output of 0.8 from an email classifier suggests an 80% chance of an email being spam and a 20% chance of it being not spam. Clearly, the sum of the probabilities of an email being either spam or not spam is 1.0.\n",
        "\n",
        "Softmax extends this idea into a multi-class world. That is, Softmax assigns decimal probabilities to each class in a multi-class problem. Those decimal probabilities must add up to 1.0. This additional constraint helps training converge more quickly than it otherwise would.\n",
        "Softmax is implemented through a neural network layer just before the output layer. The Softmax layer must have the same number of nodes as the output layer.\n",
        "\n",
        "<img src='https://miro.medium.com/max/1400/1*ReYpdIZ3ZSAPb2W8cJpkBg.jpeg' height=170px />"
      ],
      "metadata": {
        "id": "eu3QIU7AEO_x"
      }
    },
    {
      "cell_type": "markdown",
      "source": [
        "## Learning to train a CNN network"
      ],
      "metadata": {
        "id": "P6grxC0TKKSF"
      }
    },
    {
      "cell_type": "code",
      "source": [
        "# Import packages\n",
        "import torch\n",
        "import torchvision\n",
        "import torchvision.transforms as transforms\n",
        "import torch.nn as nn\n",
        "import torch.nn.functional as F\n",
        "import torch.optim as optim\n",
        "import matplotlib.pyplot as plt\n",
        "import numpy as np"
      ],
      "metadata": {
        "id": "qlO-uZUHnn_-"
      },
      "execution_count": 20,
      "outputs": []
    },
    {
      "cell_type": "code",
      "source": [
        "#  Images returned from torchvision dataset classes is in range [0,1]\n",
        "# We transform them to tensors and normalize them to range [-1,1] using 'Normalize' transform\n",
        "\n",
        "transform = transforms.Compose(\n",
        "    [transforms.ToTensor(),\n",
        "     transforms.Normalize((0.5, 0.5, 0.5), (0.5, 0.5, 0.5))])\n",
        "\n",
        "batch_size = 128\n",
        "\n",
        "trainset = torchvision.datasets.CIFAR10(root='./data', train=True,\n",
        "                                        download=True, transform=transform)\n",
        "trainloader = torch.utils.data.DataLoader(trainset, batch_size=batch_size,\n",
        "                                          shuffle=True, num_workers=2)\n",
        "\n",
        "testset = torchvision.datasets.CIFAR10(root='./data', train=False,\n",
        "                                       download=True, transform=transform)\n",
        "testloader = torch.utils.data.DataLoader(testset, batch_size=batch_size,\n",
        "                                         shuffle=False, num_workers=2)\n",
        "\n",
        "# Classes in CIFAR10\n",
        "classes = ('plane', 'car', 'bird', 'cat',\n",
        "           'deer', 'dog', 'frog', 'horse', 'ship', 'truck')"
      ],
      "metadata": {
        "id": "NnezCUbwGqzd",
        "colab": {
          "base_uri": "https://localhost:8080/"
        },
        "outputId": "4ba5a5e7-317f-442b-e759-3988c88afb0b"
      },
      "execution_count": 21,
      "outputs": [
        {
          "output_type": "stream",
          "name": "stdout",
          "text": [
            "Downloading https://www.cs.toronto.edu/~kriz/cifar-10-python.tar.gz to ./data/cifar-10-python.tar.gz\n"
          ]
        },
        {
          "output_type": "stream",
          "name": "stderr",
          "text": [
            "100%|██████████| 170498071/170498071 [00:01<00:00, 94043172.49it/s] \n"
          ]
        },
        {
          "output_type": "stream",
          "name": "stdout",
          "text": [
            "Extracting ./data/cifar-10-python.tar.gz to ./data\n",
            "Files already downloaded and verified\n"
          ]
        }
      ]
    },
    {
      "cell_type": "code",
      "source": [
        "print('Training data shape : ', trainset.data.shape, len(trainset.targets))\n",
        "print('Testing data shape : ', testset.data.shape, len(testset.targets))\n",
        "\n",
        "# Find the unique numbers from the train labels\n",
        "nClasses = len(classes)\n",
        "print('Total number of outputs : ', nClasses)\n",
        "print('Output classes : ', classes)"
      ],
      "metadata": {
        "id": "e2M57DhHGupn",
        "colab": {
          "base_uri": "https://localhost:8080/"
        },
        "outputId": "028e5f2b-7904-4f21-8e02-1be41a41b8e6"
      },
      "execution_count": 22,
      "outputs": [
        {
          "output_type": "stream",
          "name": "stdout",
          "text": [
            "Training data shape :  (50000, 32, 32, 3) 50000\n",
            "Testing data shape :  (10000, 32, 32, 3) 10000\n",
            "Total number of outputs :  10\n",
            "Output classes :  ('plane', 'car', 'bird', 'cat', 'deer', 'dog', 'frog', 'horse', 'ship', 'truck')\n"
          ]
        }
      ]
    },
    {
      "cell_type": "code",
      "source": [
        "def train(num_epochs, model, train_loader, loss_func, optimizer):\n",
        "\n",
        "  # Training mode\n",
        "  model.train()\n",
        "\n",
        "  train_losses = []\n",
        "  train_acc = []\n",
        "\n",
        "  # Train the model\n",
        "  for epoch in range(num_epochs):\n",
        "    running_loss = 0\n",
        "    running_acc = 0\n",
        "    for i, (images, labels) in enumerate(train_loader):\n",
        "\n",
        "      # clear gradients for this training step\n",
        "      optimizer.zero_grad()\n",
        "\n",
        "      # Forward pass\n",
        "      output = model(images)\n",
        "\n",
        "      # Calculate loss\n",
        "      loss = loss_func(output, labels)\n",
        "\n",
        "      # Backpropagation, compute gradients\n",
        "      loss.backward()\n",
        "\n",
        "      # Apply gradients\n",
        "      optimizer.step()\n",
        "\n",
        "      # Running loss\n",
        "      running_loss += loss.item()\n",
        "\n",
        "      # indices of max probabilities\n",
        "      _, preds = torch.max(output, dim=1)\n",
        "\n",
        "      # Calculate number of correct predictions\n",
        "      correct = (preds.float() == labels).sum()\n",
        "      running_acc += correct\n",
        "\n",
        "      # Average loss and acc values\n",
        "      epoch_loss = running_loss / len(train_loader.dataset)\n",
        "      epoch_acc = running_acc / len(train_loader.dataset)\n",
        "\n",
        "    train_losses.append(epoch_loss)\n",
        "    train_acc.append(epoch_acc)\n",
        "    print ('Epoch {}/{}, Loss: {:.4f}, Accuracy: {:.4f}'.format(epoch + 1, num_epochs, epoch_loss, epoch_acc*100))\n",
        "\n",
        "  return train_losses, train_acc"
      ],
      "metadata": {
        "id": "_haw697lHCZs"
      },
      "execution_count": 23,
      "outputs": []
    },
    {
      "cell_type": "code",
      "source": [
        "def test_model(model, testloader):\n",
        "  correct = 0\n",
        "  total = 0\n",
        "  # Deactivate autograd engine (don't compute grads since we're not training)\n",
        "  with torch.no_grad():\n",
        "    for data in testloader:\n",
        "        images, labels = data\n",
        "        # Calculate outputs by running images through the network\n",
        "        outputs = model(images)\n",
        "        # The class with the highest value is what we choose as prediction\n",
        "        _, predicted = torch.max(outputs.data, 1)\n",
        "        total += labels.size(0)\n",
        "        correct += (predicted == labels).sum().item()\n",
        "\n",
        "  print('Accuracy of the network: %d %%' % (\n",
        "      100 * correct / total))"
      ],
      "metadata": {
        "id": "x1Wi6vW7IHcR"
      },
      "execution_count": 24,
      "outputs": []
    },
    {
      "cell_type": "code",
      "source": [
        "# CNN with 2 CONV layers and 3 FC layers\n",
        "class Net(nn.Module):\n",
        "    def __init__(self):\n",
        "        super().__init__()\n",
        "        self.conv1 = nn.Conv2d(3, 16, 3)\n",
        "        self.pool = nn.MaxPool2d(2, 2)\n",
        "        self.conv2 = nn.Conv2d(16, 32, 5)\n",
        "        self.fc1 = nn.Linear(32 * 5 * 5, 512)\n",
        "        self.fc2 = nn.Linear(512, 128)\n",
        "        # output layer 10 classes\n",
        "        self.fc3 = nn.Linear(128, 10)\n",
        "\n",
        "    def forward(self, x):\n",
        "        x = self.pool(F.relu(self.conv1(x)))\n",
        "        x = self.pool(F.relu(self.conv2(x)))\n",
        "        # flatten all dimensions except batch\n",
        "        x = torch.flatten(x, 1)\n",
        "        x = F.relu(self.fc1(x))\n",
        "        x = F.relu(self.fc2(x))\n",
        "        x = self.fc3(x)\n",
        "        return x"
      ],
      "metadata": {
        "id": "RgxbRadcHIms"
      },
      "execution_count": 25,
      "outputs": []
    },
    {
      "cell_type": "code",
      "source": [
        "model = Net()\n",
        "print(model)"
      ],
      "metadata": {
        "id": "02meBxVOHLNL",
        "colab": {
          "base_uri": "https://localhost:8080/"
        },
        "outputId": "8b17a6e1-6210-45a3-d62f-76bc76f37ee2"
      },
      "execution_count": 26,
      "outputs": [
        {
          "output_type": "stream",
          "name": "stdout",
          "text": [
            "Net(\n",
            "  (conv1): Conv2d(3, 16, kernel_size=(3, 3), stride=(1, 1))\n",
            "  (pool): MaxPool2d(kernel_size=2, stride=2, padding=0, dilation=1, ceil_mode=False)\n",
            "  (conv2): Conv2d(16, 32, kernel_size=(5, 5), stride=(1, 1))\n",
            "  (fc1): Linear(in_features=800, out_features=512, bias=True)\n",
            "  (fc2): Linear(in_features=512, out_features=128, bias=True)\n",
            "  (fc3): Linear(in_features=128, out_features=10, bias=True)\n",
            ")\n"
          ]
        }
      ]
    },
    {
      "cell_type": "code",
      "source": [
        "# Cross Entropy loss for multi-class classification\n",
        "criterion = nn.CrossEntropyLoss()"
      ],
      "metadata": {
        "id": "lfKHypeYHNHO"
      },
      "execution_count": 27,
      "outputs": []
    },
    {
      "cell_type": "code",
      "source": [
        "# SGD optimizer with momentum\n",
        "optimizer = optim.SGD(model.parameters(), lr=0.05, momentum=0.9)"
      ],
      "metadata": {
        "id": "MuDnJL28HPKP"
      },
      "execution_count": 28,
      "outputs": []
    },
    {
      "cell_type": "code",
      "source": [
        "num_epochs = 5  # iterations\n",
        "train_losses, train_acc = train(num_epochs, model, trainloader, criterion, optimizer)"
      ],
      "metadata": {
        "id": "AgKhwMrtHRCn",
        "colab": {
          "base_uri": "https://localhost:8080/"
        },
        "outputId": "6186c389-f8c0-4a39-d225-37ca05b424a7"
      },
      "execution_count": 30,
      "outputs": [
        {
          "output_type": "stream",
          "name": "stdout",
          "text": [
            "Epoch 1/5, Loss: 0.0088, Accuracy: 60.2460\n",
            "Epoch 2/5, Loss: 0.0075, Accuracy: 66.3040\n",
            "Epoch 3/5, Loss: 0.0065, Accuracy: 70.8300\n",
            "Epoch 4/5, Loss: 0.0057, Accuracy: 74.4500\n",
            "Epoch 5/5, Loss: 0.0049, Accuracy: 77.7260\n"
          ]
        }
      ]
    },
    {
      "cell_type": "code",
      "source": [
        "fig = plt.figure(figsize=(10,4))\n",
        "ax = fig.add_subplot(1,2, 1)\n",
        "ax.plot(np.arange(1,len(train_losses)+1),train_losses)\n",
        "plt.xlabel('Training loss')\n",
        "plt.ylabel('Epochs')\n",
        "ax.set_title('Loss vs Epochs')\n",
        "ax = fig.add_subplot(1,2, 2)\n",
        "ax.plot(np.arange(1,len(train_acc)+1),train_acc)\n",
        "plt.xlabel('Training accuracy')\n",
        "plt.ylabel('Epochs')\n",
        "ax.set_title('Accuracy vs Epochs')\n",
        "plt.show()"
      ],
      "metadata": {
        "id": "tM2wHKGuHToB",
        "colab": {
          "base_uri": "https://localhost:8080/",
          "height": 410
        },
        "outputId": "6941b9bc-a949-4051-815b-92df7d7780f2"
      },
      "execution_count": 31,
      "outputs": [
        {
          "output_type": "display_data",
          "data": {
            "text/plain": [
              "<Figure size 1000x400 with 2 Axes>"
            ],
            "image/png": "[encoded data removed]"
          },
          "metadata": {}
        }
      ]
    },
    {
      "cell_type": "code",
      "source": [
        "# Accuracy on test data after training\n",
        "test_model(model, testloader)"
      ],
      "metadata": {
        "id": "3sHK9hhmI-VY",
        "colab": {
          "base_uri": "https://localhost:8080/"
        },
        "outputId": "b758c05c-7948-484b-8b18-3d622bb109ea"
      },
      "execution_count": 32,
      "outputs": [
        {
          "output_type": "stream",
          "name": "stdout",
          "text": [
            "Accuracy of the network: 66 %\n"
          ]
        }
      ]
    },
    {
      "cell_type": "markdown",
      "source": [
        "## Questions\n",
        "1) List some reasons why we should prefer CNN over ANN for image classification?\n",
        "\n",
        "2) Try improving the CNN performance further by tuning the hyperparameters(epochs, optimizer, LR etc). Report the improved test accuracy.\n",
        "\n",
        "3) What happens if you reduce the number of convolution layers to only 1?\n",
        "\n",
        "4) Why didn't we use the Softmax activation in the last layer of CNN?\n"
      ],
      "metadata": {
        "id": "RBQeCEB6REnH"
      }
    },
    {
      "cell_type": "markdown",
      "source": [
        "**1ST ANSWER**"
      ],
      "metadata": {
        "id": "187tP1ofOGIK"
      }
    },
    {
      "cell_type": "markdown",
      "source": [
        "Convolutional Neural Networks (CNNs) are preferred over traditional Artificial Neural Networks (ANNs) for image classification tasks due to several key advantages that leverage the spatial structure and hierarchical nature of images. Here are some reasons why CNNs are more suitable for image classification:\n",
        "\n",
        "1. **Hierarchical Feature Learning**:\n",
        "   CNNs are designed to automatically learn hierarchical representations of features in images. The initial layers detect basic features like edges and textures, while deeper layers learn complex features like shapes and objects. This hierarchical learning is crucial for understanding the spatial structure of images.\n",
        "\n",
        "2. **Spatial Invariance**:\n",
        "   CNNs exploit the spatial locality of data by using shared weights (filters) across the input. This allows them to be invariant to translation, meaning they can recognize patterns regardless of their location in the image. This property is beneficial for tasks like object recognition where the position of objects may vary.\n",
        "\n",
        "3. **Parameter Sharing**:\n",
        "   CNNs use parameter sharing through convolutional filters, which significantly reduces the number of parameters compared to fully connected networks (ANNs). This reduces the risk of overfitting and allows CNNs to generalize better to unseen data.\n",
        "\n",
        "4. **Local Connectivity**:\n",
        "   CNNs capture local spatial dependencies through convolutional operations. Each neuron is connected to only a local region of the input volume, enabling them to learn spatial hierarchies efficiently.\n",
        "\n",
        "5. **Efficient Feature Extraction**:\n",
        "   CNNs excel at automatically extracting relevant features from images. The convolutional layers act as feature extractors that learn to identify important patterns, textures, and shapes directly from raw pixel data.\n",
        "\n",
        "6. **Ability to Learn Spatial Hierarchies**:\n",
        "   By using multiple convolutional layers followed by pooling layers, CNNs can learn increasingly abstract and complex features, mimicking the hierarchical organization of visual information in the human visual system.\n",
        "\n",
        "7. **Effective Parameter Optimization**:\n",
        "   CNNs leverage techniques like backpropagation and gradient descent for parameter optimization, making them efficient in learning the optimal set of weights to minimize the loss function.\n",
        "\n",
        "8. **State-of-the-Art Performance in Image Tasks**:\n",
        "   CNNs have demonstrated state-of-the-art performance in various image-related tasks such as image classification, object detection, and segmentation. They have been instrumental in advancing the field of computer vision.\n",
        "\n",
        "Overall, CNNs are tailored specifically for processing grid-like data such as images, exploiting spatial relationships and hierarchical structures inherent in visual data. Their architecture and properties make them highly effective and efficient for tasks involving image classification and analysis."
      ],
      "metadata": {
        "id": "Sr-5kU69OKhR"
      }
    },
    {
      "cell_type": "markdown",
      "source": [],
      "metadata": {
        "id": "ldpzpg5cOOA6"
      }
    },
    {
      "cell_type": "markdown",
      "source": [
        "**2ND ANSWER**"
      ],
      "metadata": {
        "id": "08GZPCEYOVvK"
      }
    },
    {
      "cell_type": "markdown",
      "source": [
        "Improving the performance of a Convolutional Neural Network (CNN) involves tuning various hyperparameters such as the number of epochs, choice of optimizer, learning rate, batch size, and possibly the architecture of the network itself. Here's a step-by-step guide on how you can proceed to improve CNN performance and report the test accuracy:\n",
        "\n",
        "### 1. Dataset Preparation\n",
        "   - **Load and preprocess the dataset**: Use a suitable dataset for image classification (e.g., CIFAR-10, MNIST). Preprocess the images (e.g., normalization, resizing) and split them into training, validation, and test sets.\n",
        "\n",
        "### 2. Model Definition\n",
        "   - **Design the CNN architecture**: Choose an appropriate architecture for your CNN, including convolutional layers, pooling layers, dropout (for regularization), and fully connected layers.\n",
        "   - Example CNN architecture using Keras:\n",
        "     ```python\n",
        "     from tensorflow.keras.models import Sequential\n",
        "     from tensorflow.keras.layers import Conv2D, MaxPooling2D, Flatten, Dense, Dropout\n",
        "\n",
        "     model = Sequential([\n",
        "         Conv2D(32, (3, 3), activation='relu', input_shape=(32, 32, 3)),\n",
        "         MaxPooling2D((2, 2)),\n",
        "         Conv2D(64, (3, 3), activation='relu'),\n",
        "         MaxPooling2D((2, 2)),\n",
        "         Flatten(),\n",
        "         Dense(128, activation='relu'),\n",
        "         Dropout(0.5),\n",
        "         Dense(10, activation='softmax')\n",
        "     ])\n",
        "     ```\n",
        "\n",
        "### 3. Model Compilation\n",
        "   - **Compile the model**: Specify the loss function, optimizer, and metrics for training.\n",
        "   - Example compilation using Keras:\n",
        "     ```python\n",
        "     model.compile(optimizer='adam',\n",
        "                   loss='sparse_categorical_crossentropy',\n",
        "                   metrics=['accuracy'])\n",
        "     ```\n",
        "\n",
        "### 4. Hyperparameter Tuning\n",
        "   - **Define hyperparameters**: Choose hyperparameters to tune, such as epochs, learning rate, batch size, and optimizer.\n",
        "   - **Use techniques like grid search or random search**: Experiment with different combinations of hyperparameters to find the optimal configuration.\n",
        "   - Example hyperparameter tuning using Keras and TensorFlow:\n",
        "     ```python\n",
        "     from tensorflow.keras.callbacks import EarlyStopping\n",
        "\n",
        "     # Define hyperparameters\n",
        "     epochs = 20\n",
        "     batch_size = 64\n",
        "     learning_rate = 0.001\n",
        "\n",
        "     # Compile and train the model\n",
        "     history = model.fit(train_images, train_labels, epochs=epochs, batch_size=batch_size,\n",
        "                         validation_data=(val_images, val_labels),\n",
        "                         callbacks=[EarlyStopping(patience=3)],\n",
        "                         verbose=1)\n",
        "     ```\n",
        "\n",
        "### 5. Evaluate the Model\n",
        "   - **Evaluate the model on the test set**: After training, evaluate the model's performance on the test set to report the test accuracy.\n",
        "   - Example evaluation using Keras:\n",
        "     ```python\n",
        "     test_loss, test_accuracy = model.evaluate(test_images, test_labels, verbose=2)\n",
        "     print(f\"Test Accuracy: {test_accuracy}\")\n",
        "     ```\n",
        "\n",
        "### 6. Iterative Improvement\n",
        "   - **Iteratively tune hyperparameters**: Based on the initial results, refine your choices of hyperparameters and model architecture to further optimize performance.\n",
        "\n",
        "### Example Workflow\n",
        "Here's an illustrative workflow incorporating the above steps:\n",
        "\n",
        "```python\n",
        "import tensorflow as tf\n",
        "from tensorflow.keras.datasets import cifar10\n",
        "from tensorflow.keras.models import Sequential\n",
        "from tensorflow.keras.layers import Conv2D, MaxPooling2D, Flatten, Dense, Dropout\n",
        "from tensorflow.keras.optimizers import Adam\n",
        "\n",
        "# Load and preprocess CIFAR-10 dataset\n",
        "(train_images, train_labels), (test_images, test_labels) = cifar10.load_data()\n",
        "train_images = train_images / 255.0\n",
        "test_images = test_images / 255.0\n",
        "\n",
        "# Define CNN architecture\n",
        "model = Sequential([\n",
        "    Conv2D(32, (3, 3), activation='relu', input_shape=(32, 32, 3)),\n",
        "    MaxPooling2D((2, 2)),\n",
        "    Conv2D(64, (3, 3), activation='relu'),\n",
        "    MaxPooling2D((2, 2)),\n",
        "    Flatten(),\n",
        "    Dense(128, activation='relu'),\n",
        "    Dropout(0.5),\n",
        "    Dense(10, activation='softmax')\n",
        "])\n",
        "\n",
        "# Compile the model\n",
        "model.compile(optimizer=Adam(learning_rate=0.001),\n",
        "              loss='sparse_categorical_crossentropy',\n",
        "              metrics=['accuracy'])\n",
        "\n",
        "# Train the model with hyperparameter tuning\n",
        "history = model.fit(train_images, train_labels, epochs=20, batch_size=64,\n",
        "                    validation_split=0.2, verbose=1)\n",
        "\n",
        "# Evaluate the model on the test set\n",
        "test_loss, test_accuracy = model.evaluate(test_images, test_labels, verbose=2)\n",
        "print(f\"Test Accuracy: {test_accuracy}\")\n",
        "```\n",
        "\n",
        "In this example:\n",
        "- We use the CIFAR-10 dataset for image classification.\n",
        "- The CNN architecture includes convolutional layers, max pooling, dropout for regularization, and dense layers.\n",
        "- We use the Adam optimizer with a specified learning rate (`learning_rate=0.001`).\n",
        "- The model is trained for 20 epochs with a batch size of 64.\n",
        "- After training, we evaluate the model's performance on the test set to report the test accuracy.\n",
        "\n",
        "You can further refine this workflow by experimenting with different hyperparameters (e.g., learning rate, batch size, number of epochs) and exploring advanced techniques like learning rate scheduling, early stopping, and more complex architectures to achieve improved performance in your CNN-based image classification task. Iteratively tuning these parameters and experimenting with different configurations will help optimize the model's accuracy."
      ],
      "metadata": {
        "id": "wrek8PATOYuG"
      }
    },
    {
      "cell_type": "markdown",
      "source": [
        "**3RD ANSWER**"
      ],
      "metadata": {
        "id": "N7sNShyXOuye"
      }
    },
    {
      "cell_type": "markdown",
      "source": [
        "Reducing the number of convolutional layers to only one in a Convolutional Neural Network (CNN) can have several implications on the network's ability to learn and extract meaningful features from input data, particularly for complex tasks like image classification. Here are some key points to consider when reducing the number of convolutional layers:\n",
        "\n",
        "1. **Feature Extraction Capability**:\n",
        "   Convolutional layers are responsible for extracting hierarchical features from the input data. Multiple convolutional layers allow the network to learn increasingly abstract and complex features. With only one convolutional layer, the network's capability to extract diverse and high-level features may be limited.\n",
        "\n",
        "2. **Model Complexity and Capacity**:\n",
        "   CNNs with multiple convolutional layers have higher model complexity and capacity, enabling them to learn more intricate patterns in the data. A single convolutional layer may not capture enough variations in the input data, potentially leading to underfitting.\n",
        "\n",
        "3. **Hierarchical Representation**:\n",
        "   Deep CNN architectures leverage the concept of hierarchical representation learning, where lower layers detect basic features (e.g., edges, textures) and higher layers combine these features to recognize more complex patterns (e.g., shapes, objects). With fewer convolutional layers, the network may struggle to learn such hierarchical representations effectively.\n",
        "\n",
        "4. **Generalization and Performance**:\n",
        "   Deeper CNNs often generalize better to unseen data by learning robust and discriminative features. A single convolutional layer might not generalize well and could result in lower performance on validation and test datasets.\n",
        "\n",
        "5. **Effective Receptive Field**:\n",
        "   CNNs with multiple layers have larger effective receptive fields, allowing them to capture more contextual information and spatial dependencies within the input data. A single convolutional layer has a limited receptive field, which may not adequately capture the spatial relationships in complex images.\n",
        "\n",
        "6. **Loss of Depth Benefits**:\n",
        "   Depth in CNNs (achieved through multiple layers) has been shown to be beneficial for learning complex mappings and achieving state-of-the-art performance in computer vision tasks. Reducing the number of layers reduces the depth of the network, potentially compromising its ability to learn intricate patterns.\n",
        "\n",
        "In summary, while reducing the number of convolutional layers to one may simplify the network architecture and reduce computational costs, it often comes at the expense of feature learning capability, model capacity, and overall performance. For tasks like image classification where capturing diverse and hierarchical features is critical, it's generally recommended to use deeper CNN architectures with multiple convolutional layers for optimal results. However, the specific choice of network architecture should always be guided by the nature of the task, the complexity of the data, and available computational resources."
      ],
      "metadata": {
        "id": "FcgR0nEAOyQG"
      }
    },
    {
      "cell_type": "markdown",
      "source": [
        "**4TH ANSWER**"
      ],
      "metadata": {
        "id": "W3oZgrA7O_gR"
      }
    },
    {
      "cell_type": "markdown",
      "source": [
        "The decision to use or not use the Softmax activation function in the last layer of a Convolutional Neural Network (CNN) depends on the specific task being addressed by the network. Here are some considerations:\n",
        "\n",
        "1. **Nature of the Task**:\n",
        "   - **Multiclass Classification**: If the task involves multiclass classification (i.e., predicting one of multiple mutually exclusive classes), it's typical to use Softmax activation in the last layer. Softmax converts raw logits into probabilities, ensuring that the output values represent the likelihood or confidence scores for each class.\n",
        "   - **Other Tasks**: For tasks like binary classification (where there are only two classes) or regression tasks (predicting continuous values), different activation functions (e.g., Sigmoid for binary classification, Linear for regression) may be more appropriate in the output layer.\n",
        "\n",
        "2. **Loss Function Compatibility**:\n",
        "   - Softmax activation is often paired with the categorical cross-entropy loss function for multiclass classification tasks. This combination helps in optimizing the network's weights to minimize the cross-entropy loss, thereby improving the model's ability to correctly classify input samples into their respective classes.\n",
        "\n",
        "3. **Model Output Interpretation**:\n",
        "   - Softmax activation normalizes the output layer into a probability distribution across multiple classes. Each output neuron represents the probability of the corresponding class, and the sum of probabilities for all classes equals one. This makes the model's predictions interpretable and suitable for decision-making based on class probabilities.\n",
        "\n",
        "4. **Decision Boundary and Class Separation**:\n",
        "   - Softmax activation helps in establishing clear decision boundaries between classes by assigning higher probabilities to the correct class and lower probabilities to other classes. This facilitates effective class separation and reduces ambiguity in predictions.\n",
        "\n",
        "In some cases, Softmax activation may not be used in the last layer of a CNN if:\n",
        "   - The task is not multiclass classification (e.g., binary classification or regression).\n",
        "   - The network is part of a larger architecture (e.g., used as a feature extractor in a more complex system) where the final decision-making is handled by another component downstream.\n",
        "\n",
        "Therefore, when designing a CNN, the choice of activation function in the last layer should align with the specific requirements and objectives of the task, ensuring that the network's output is compatible with the desired model behavior and performance metrics."
      ],
      "metadata": {
        "id": "ojEDVoK_PCSA"
      }
    }
  ]
}